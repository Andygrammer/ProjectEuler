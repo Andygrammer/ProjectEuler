{
  "nbformat": 4,
  "nbformat_minor": 0,
  "metadata": {
    "colab": {
      "name": "PE_P1_S1.ipynb",
      "provenance": [],
      "collapsed_sections": [],
      "authorship_tag": "ABX9TyNJmHBAyL/W6bOVnuWPs7w1",
      "include_colab_link": true
    },
    "kernelspec": {
      "name": "python3",
      "display_name": "Python 3"
    }
  },
  "cells": [
    {
      "cell_type": "markdown",
      "metadata": {
        "id": "view-in-github",
        "colab_type": "text"
      },
      "source": [
        "<a href=\"https://colab.research.google.com/github/Andygrammer/ProjectEuler/blob/master/PE_P1_S1.ipynb\" target=\"_parent\"><img src=\"https://colab.research.google.com/assets/colab-badge.svg\" alt=\"Open In Colab\"/></a>"
      ]
    },
    {
      "cell_type": "code",
      "metadata": {
        "id": "kK1XSR0j9JU-",
        "colab_type": "code",
        "outputId": "202dba7c-1718-422e-bd11-d77e2b89da99",
        "colab": {
          "base_uri": "https://localhost:8080/",
          "height": 34
        }
      },
      "source": [
        "################################################################################\n",
        "#                                                                              # \n",
        "# Project Euler - Problema 1 - Solução 1 - Por André Marinho                   #\n",
        "# Canal Desbugando: https://www.youtube.com/channel/UCdwcDKLho5szIuxUIMZP67A   # \n",
        "#                                                                              #\n",
        "################################################################################\n",
        "\n",
        "# Entrada: números naturais de 0 a 999\n",
        "# Saída: soma de todos os múltiplos de 3 ou 5\n",
        "\n",
        "somaDosMultiplos = 0\n",
        "\n",
        "for i in range(1000):\n",
        "  multiplo_3 = i % 3\n",
        "  multiplo_5 = i % 5\n",
        "  if (multiplo_3 == 0 or multiplo_5 == 0):\n",
        "    somaDosMultiplos = somaDosMultiplos + i\n",
        "\n",
        "print(somaDosMultiplos)\n",
        "\n",
        "\n",
        "# código para solução avançada\n",
        "#p = 999999999999 // 15\n",
        "#fator = 15*(p*(p+1)) // 2\n",
        "#print(fator)"
      ],
      "execution_count": 1,
      "outputs": [
        {
          "output_type": "stream",
          "text": [
            "233168\n"
          ],
          "name": "stdout"
        }
      ]
    }
  ]
}