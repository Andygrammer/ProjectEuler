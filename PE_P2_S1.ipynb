{
    "cells": [
        {
            "cell_type": "markdown",
            "source": [
                "# Project Euler - Problema #2 - Solução 1 - Por André Marinho\r\n",
                "\r\n",
                "*Enunciado traduzido*\r\n",
                "\r\n",
                "Cada novo termo de uma sequência Fibonacci é gerado adicionando os dois termos anteriores. Ao começar com 1 e 2, os primeiros 10 termos serão:\r\n",
                "\r\n",
                "1, 2, 3, 5, 8, 13, 21, 34, 55, 89, ...\r\n",
                "\r\n",
                "Considerando os termos da sequência Fibonacci cujos valores não ultrapassam 4 milhões, ache a soma dos termos pares."
            ],
            "metadata": {
                "dotnet_interactive": {
                    "language": "csharp"
                }
            }
        },
        {
            "cell_type": "code",
            "execution_count": null,
            "source": [
                "// Entrada: os primeiros 4 milhões de termos da sequência Fibonacci\r\n",
                "// Saída: soma dos termos pares da sequência Fibonacci\r\n",
                "\r\n",
                "int n = 4000000;\r\n",
                "int x = 1, y = 0, z = 0;\r\n",
                "double soma_dos_pares = 0.0;\r\n",
                "\r\n",
                "for (int i = 1; i <= n; i++)\r\n",
                "{\r\n",
                "    z = x + y;\r\n",
                "    y = x;\r\n",
                "    x = z;\r\n",
                "\r\n",
                "    if (i % 2 == 0)\r\n",
                "    {\r\n",
                "        soma_dos_pares += z;\r\n",
                "    }\r\n",
                "}\r\n",
                "\r\n",
                "Console.WriteLine(soma_dos_pares);"
            ],
            "outputs": [
                {
                    "output_type": "stream",
                    "name": "stdout",
                    "text": [
                        "4048803411799\r\n"
                    ]
                }
            ],
            "metadata": {
                "dotnet_interactive": {
                    "language": "csharp"
                }
            }
        }
    ],
    "metadata": {
        "orig_nbformat": 4,
        "language_info": {
            "file_extension": ".cs",
            "mimetype": "text/x-csharp",
            "name": "C#",
            "pygments_lexer": "csharp",
            "version": "9.0"
        },
        "kernelspec": {
            "display_name": ".NET (C#)",
            "language": "C#",
            "name": ".net-csharp"
        }
    },
    "nbformat": 4,
    "nbformat_minor": 2
}