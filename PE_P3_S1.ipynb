{
    "cells": [
        {
            "cell_type": "markdown",
            "source": [
                "# Project Euler - Problema #3 - Solução 1 - Por André Marinho\r\n",
                "\r\n",
                "*Enunciado traduzido*\r\n",
                "\r\n",
                "Os fatores primos de 13195 são 5, 7, 13 e 29,\r\n",
                "\r\n",
                "Qual é o maior fator primo do número 600851475143 ?"
            ],
            "metadata": {
                "dotnet_interactive": {
                    "language": "csharp"
                }
            }
        },
        {
            "cell_type": "code",
            "execution_count": null,
            "source": [
                "// Entrada: n -> 600851475143\r\n",
                "// Saída: maior fator primo de n\r\n",
                "\r\n",
                "long n = 600851475143;\r\n",
                "long largest_factor = 1;\r\n",
                "\r\n",
                "// reduzindo n (evitar alto processamento)\r\n",
                "while(n % 2 == 0)\r\n",
                "{\r\n",
                "    largest_factor = 2;\r\n",
                "    n /= 2;\r\n",
                "}\r\n",
                "\r\n",
                "// lidando com ímpares (não divisíveis por 2)\r\n",
                "for(int i = 3; i <= Math.Sqrt(n); i = i + 2)\r\n",
                "{\r\n",
                "    while(n % i == 0)\r\n",
                "    {\r\n",
                "        n /= i;\r\n",
                "        largest_factor = n;\r\n",
                "    }\r\n",
                "}\r\n",
                "\r\n",
                "Console.WriteLine(largest_factor);"
            ],
            "outputs": [
                {
                    "output_type": "stream",
                    "name": "stdout",
                    "text": [
                        "6857\r\n"
                    ]
                }
            ],
            "metadata": {
                "dotnet_interactive": {
                    "language": "csharp"
                }
            }
        }
    ],
    "metadata": {
        "orig_nbformat": 4,
        "language_info": {
            "file_extension": ".cs",
            "mimetype": "text/x-csharp",
            "name": "C#",
            "pygments_lexer": "csharp",
            "version": "9.0"
        },
        "kernelspec": {
            "display_name": ".NET (C#)",
            "language": "C#",
            "name": ".net-csharp"
        }
    },
    "nbformat": 4,
    "nbformat_minor": 2
}